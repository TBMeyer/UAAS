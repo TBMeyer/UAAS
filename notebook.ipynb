{
 "cells": [
  {
   "cell_type": "code",
   "execution_count": 1,
   "metadata": {},
   "outputs": [
    {
     "data": {
      "application/vnd.jupyter.widget-view+json": {
       "model_id": "71707e408e1242419c2c9dd45e103577",
       "version_major": 2,
       "version_minor": 0
      },
      "text/plain": [
       "Text(value='', description='Keyword:', placeholder='Welches Keyword soll untersucht werden?')"
      ]
     },
     "metadata": {},
     "output_type": "display_data"
    },
    {
     "data": {
      "application/vnd.jupyter.widget-view+json": {
       "model_id": "c349dab4a3c44b67961076f3907c1c0c",
       "version_major": 2,
       "version_minor": 0
      },
      "text/plain": [
       "SelectMultiple(description='Sprache:', options=('de', 'en', 'es'), value=())"
      ]
     },
     "metadata": {},
     "output_type": "display_data"
    },
    {
     "data": {
      "application/vnd.jupyter.widget-view+json": {
       "model_id": "09343b6f9b0146e4aae606a09791c9a4",
       "version_major": 2,
       "version_minor": 0
      },
      "text/plain": [
       "Button(description='Los!', style=ButtonStyle())"
      ]
     },
     "metadata": {},
     "output_type": "display_data"
    },
    {
     "data": {
      "application/vnd.jupyter.widget-view+json": {
       "model_id": "cf10a097b4754c849ff2bdf9b790e2a1",
       "version_major": 2,
       "version_minor": 0
      },
      "text/plain": [
       "Output()"
      ]
     },
     "metadata": {},
     "output_type": "display_data"
    }
   ],
   "source": [
    "import ipywidgets as widgets\n",
    "tInput = widgets.Text(\n",
    "    placeholder='Welches Keyword soll untersucht werden?',\n",
    "    description='Keyword:',\n",
    "    disabled=False\n",
    ")\n",
    "lInput = widgets.SelectMultiple(\n",
    "    options=['de', 'en', 'es'],\n",
    "    description='Sprache:',\n",
    "    disabled=False\n",
    ")\n",
    "display(tInput, lInput)\n",
    "\n",
    "button = widgets.Button(description=\"Los!\")\n",
    "output = widgets.Output()\n",
    "\n",
    "display(button, output)\n",
    "\n",
    "def on_button_clicked(b):\n",
    "    with output:\n",
    "        query = tInput.value\n",
    "        lang = lInput.value\n",
    "        from scraping import scrape\n",
    "        scrape(query = query, lang = lang)\n",
    "        \n",
    "button.on_click(on_button_clicked)"
   ]
  },
  {
   "cell_type": "code",
   "execution_count": null,
   "metadata": {},
   "outputs": [],
   "source": []
  }
 ],
 "metadata": {
  "kernelspec": {
   "display_name": "Python 3",
   "language": "python",
   "name": "python3"
  },
  "language_info": {
   "codemirror_mode": {
    "name": "ipython",
    "version": 3
   },
   "file_extension": ".py",
   "mimetype": "text/x-python",
   "name": "python",
   "nbconvert_exporter": "python",
   "pygments_lexer": "ipython3",
   "version": "3.7.4"
  }
 },
 "nbformat": 4,
 "nbformat_minor": 2
}

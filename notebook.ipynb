{
 "cells": [
  {
   "cell_type": "code",
   "execution_count": 1,
   "metadata": {},
   "outputs": [
    {
     "data": {
      "application/vnd.jupyter.widget-view+json": {
       "model_id": "99860d0105ea458ab50b2bc5d4c126b7",
       "version_major": 2,
       "version_minor": 0
      },
      "text/plain": [
       "Text(value='', description='Keyword:', placeholder='Welches Keyword soll untersucht werden?')"
      ]
     },
     "metadata": {},
     "output_type": "display_data"
    },
    {
     "data": {
      "application/vnd.jupyter.widget-view+json": {
       "model_id": "2dedd67c23244f0b8b1848455a53f4fb",
       "version_major": 2,
       "version_minor": 0
      },
      "text/plain": [
       "SelectMultiple(description='Sprache:', options=('de', 'en', 'es'), value=())"
      ]
     },
     "metadata": {},
     "output_type": "display_data"
    },
    {
     "data": {
      "application/vnd.jupyter.widget-view+json": {
       "model_id": "c1e5fc2db4304310a3171cb84fd17f9b",
       "version_major": 2,
       "version_minor": 0
      },
      "text/plain": [
       "Button(description='Los!', style=ButtonStyle())"
      ]
     },
     "metadata": {},
     "output_type": "display_data"
    },
    {
     "data": {
      "application/vnd.jupyter.widget-view+json": {
       "model_id": "a91dc25caec64174b3b4c3fd29fd47df",
       "version_major": 2,
       "version_minor": 0
      },
      "text/plain": [
       "Output()"
      ]
     },
     "metadata": {},
     "output_type": "display_data"
    }
   ],
   "source": [
    "import ipywidgets as widgets\n",
    "tInput = widgets.Text(\n",
    "    placeholder='Welches Keyword soll untersucht werden?',\n",
    "    description='Keyword:',\n",
    "    disabled=False\n",
    ")\n",
    "lInput = widgets.SelectMultiple(\n",
    "    options=['de', 'en', 'es'],\n",
    "    description='Sprache:',\n",
    "    disabled=False\n",
    ")\n",
    "display(tInput, lInput)\n",
    "\n",
    "button = widgets.Button(description=\"Los!\")\n",
    "output = widgets.Output()\n",
    "\n",
    "display(button, output)\n",
    "\n",
    "def on_button_clicked(b):\n",
    "    with output:\n",
    "        query = tInput.value\n",
    "        lang = lInput.value\n",
    "        from scraping import scrape\n",
    "        scrape(query = query, lang = lang)\n",
    "        \n",
    "button.on_click(on_button_clicked)"
   ]
  },
  {
   "cell_type": "code",
   "execution_count": null,
   "metadata": {},
   "outputs": [],
   "source": []
  }
 ],
 "metadata": {
  "kernelspec": {
   "display_name": "Python 3",
   "language": "python",
   "name": "python3"
  },
  "language_info": {
   "codemirror_mode": {
    "name": "ipython",
    "version": 3
   },
   "file_extension": ".py",
   "mimetype": "text/x-python",
   "name": "python",
   "nbconvert_exporter": "python",
   "pygments_lexer": "ipython3",
   "version": "3.7.4"
  }
 },
 "nbformat": 4,
 "nbformat_minor": 2
}

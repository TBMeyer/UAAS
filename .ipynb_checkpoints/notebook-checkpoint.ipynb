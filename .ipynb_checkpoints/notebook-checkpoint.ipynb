{
 "cells": [
  {
   "cell_type": "code",
   "execution_count": 1,
   "metadata": {},
   "outputs": [
    {
     "ename": "SyntaxError",
     "evalue": "invalid syntax (<ipython-input-1-0b26dc345f55>, line 25)",
     "output_type": "error",
     "traceback": [
      "\u001b[1;36m  File \u001b[1;32m\"<ipython-input-1-0b26dc345f55>\"\u001b[1;36m, line \u001b[1;32m25\u001b[0m\n\u001b[1;33m    <form method=\"get\" action=\"file.doc\">\u001b[0m\n\u001b[1;37m    ^\u001b[0m\n\u001b[1;31mSyntaxError\u001b[0m\u001b[1;31m:\u001b[0m invalid syntax\n"
     ]
    }
   ],
   "source": [
    "import ipywidgets as widgets\n",
    "tInput = widgets.Text(\n",
    "    placeholder='Welches Keyword soll untersucht werden?',\n",
    "    description='Keyword:',\n",
    "    disabled=False\n",
    ")\n",
    "lInput = widgets.SelectMultiple(\n",
    "    options=['de', 'en', 'es'],\n",
    "    description='Sprache:',\n",
    "    disabled=False\n",
    ")\n",
    "display(tInput, lInput)\n",
    "\n",
    "button = widgets.Button(description=\"Los!\")\n",
    "output = widgets.Output()\n",
    "\n",
    "display(button, output)\n",
    "\n",
    "def on_button_clicked(b):\n",
    "    with output:\n",
    "        query = tInput.value\n",
    "        lang = lInput.value\n",
    "        from scraping import scrape\n",
    "        scrape(query = query, lang = lang)\n",
    "button.on_click(on_button_clicked)\n"
   ]
  },
  {
   "cell_type": "code",
   "execution_count": null,
   "metadata": {},
   "outputs": [],
   "source": []
  }
 ],
 "metadata": {
  "kernelspec": {
   "display_name": "Python 3",
   "language": "python",
   "name": "python3"
  },
  "language_info": {
   "codemirror_mode": {
    "name": "ipython",
    "version": 3
   },
   "file_extension": ".py",
   "mimetype": "text/x-python",
   "name": "python",
   "nbconvert_exporter": "python",
   "pygments_lexer": "ipython3",
   "version": "3.7.5"
  }
 },
 "nbformat": 4,
 "nbformat_minor": 2
}
